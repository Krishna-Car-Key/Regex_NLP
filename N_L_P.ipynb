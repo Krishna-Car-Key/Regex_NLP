{
 "cells": [
  {
   "cell_type": "markdown",
   "id": "fa1107df-bc12-4f38-8966-4c298a8d6529",
   "metadata": {},
   "source": [
    "# making dictionery"
   ]
  },
  {
   "cell_type": "code",
   "execution_count": 1,
   "id": "ea9e3dd0-239f-4c63-98b5-8ddb80422941",
   "metadata": {},
   "outputs": [],
   "source": [
    "import re\n",
    "import nltk"
   ]
  },
  {
   "cell_type": "code",
   "execution_count": 2,
   "id": "ca90b389-e5e5-4375-922d-c5f54fd44021",
   "metadata": {},
   "outputs": [],
   "source": [
    "with open(\"miracle-in-the-andes.txt\", \"r\") as file:\n",
    "    book = file.read()"
   ]
  },
  {
   "cell_type": "code",
   "execution_count": 3,
   "id": "d3c0eb66-a6f6-4284-8813-ae5394c0c572",
   "metadata": {},
   "outputs": [
    {
     "data": {
      "text/plain": [
       "['chapter',\n",
       " 'before',\n",
       " 'it',\n",
       " 'was',\n",
       " 'friday',\n",
       " 'the',\n",
       " 'thirteenth',\n",
       " 'of',\n",
       " 'october',\n",
       " 'we']"
      ]
     },
     "execution_count": 3,
     "metadata": {},
     "output_type": "execute_result"
    }
   ],
   "source": [
    "pattern = re.compile(\"[a-zA-Z]+\")\n",
    "words = re.findall(pattern, book.lower())\n",
    "words[:10]"
   ]
  },
  {
   "cell_type": "code",
   "execution_count": 4,
   "id": "8d6beaeb-6d66-4ee6-b264-43d59dcd2115",
   "metadata": {},
   "outputs": [],
   "source": [
    "w_dict = {}\n",
    "for word in words:\n",
    "    if word in w_dict.keys():\n",
    "        w_dict[word] = w_dict[word] + 1\n",
    "    else:\n",
    "        w_dict[word] = 1;\n",
    "        \n",
    "        "
   ]
  },
  {
   "cell_type": "code",
   "execution_count": 5,
   "id": "05237783-ca76-4cac-b3ed-62b7e0f1d5ab",
   "metadata": {},
   "outputs": [],
   "source": [
    "w_dict = [(value,key) for (key,value) in w_dict.items()]"
   ]
  },
  {
   "cell_type": "code",
   "execution_count": 6,
   "id": "8c13e9cd-1f5d-4c01-8514-ce22858cadfc",
   "metadata": {},
   "outputs": [
    {
     "data": {
      "text/plain": [
       "[(11, 'chapter'),\n",
       " (93, 'before'),\n",
       " (800, 'it'),\n",
       " (1430, 'was'),\n",
       " (1, 'friday'),\n",
       " (5346, 'the'),\n",
       " (1, 'thirteenth'),\n",
       " (2060, 'of'),\n",
       " (8, 'october'),\n",
       " (1226, 'we')]"
      ]
     },
     "execution_count": 6,
     "metadata": {},
     "output_type": "execute_result"
    }
   ],
   "source": [
    "w_dict[:10]"
   ]
  },
  {
   "cell_type": "code",
   "execution_count": 7,
   "id": "dd3342e0-fe6f-4db5-b39c-2480d93da4ca",
   "metadata": {},
   "outputs": [],
   "source": [
    "w_dict = sorted(w_dict, reverse=True)"
   ]
  },
  {
   "cell_type": "code",
   "execution_count": 8,
   "id": "1cd3f120-f4b6-46f1-bdf7-afe0e55b10e9",
   "metadata": {},
   "outputs": [
    {
     "data": {
      "text/plain": [
       "[(5346, 'the'),\n",
       " (2795, 'and'),\n",
       " (2729, 'i'),\n",
       " (2400, 'to'),\n",
       " (2060, 'of'),\n",
       " (1566, 'a'),\n",
       " (1430, 'was'),\n",
       " (1419, 'in'),\n",
       " (1226, 'we'),\n",
       " (1169, 'my')]"
      ]
     },
     "execution_count": 8,
     "metadata": {},
     "output_type": "execute_result"
    }
   ],
   "source": [
    "w_dict[:10]"
   ]
  },
  {
   "cell_type": "markdown",
   "id": "66c24351-e408-4edc-872a-b9c946fbd4fa",
   "metadata": {},
   "source": [
    "# Checking most_used word without eng_stopwords`"
   ]
  },
  {
   "cell_type": "code",
   "execution_count": 9,
   "id": "cff5bd64-2094-4954-a61d-d48b7f53e7ac",
   "metadata": {},
   "outputs": [
    {
     "name": "stderr",
     "output_type": "stream",
     "text": [
      "[nltk_data] Downloading package stopwords to\n",
      "[nltk_data]     /Users/krishnakarki/nltk_data...\n",
      "[nltk_data]   Package stopwords is already up-to-date!\n"
     ]
    }
   ],
   "source": [
    "nltk.download('stopwords')\n",
    "from nltk.corpus import stopwords"
   ]
  },
  {
   "cell_type": "code",
   "execution_count": 10,
   "id": "7ffc1eef-5831-4458-8f25-fa02f0c30614",
   "metadata": {},
   "outputs": [],
   "source": [
    "eng_stopwords = stopwords.words(\"english\")"
   ]
  },
  {
   "cell_type": "code",
   "execution_count": 11,
   "id": "a8d30b8a-c3f8-4479-b4f9-5e34e29eb6cc",
   "metadata": {},
   "outputs": [
    {
     "data": {
      "text/plain": [
       "['i', 'me', 'my', 'myself', 'we', 'our', 'ours', 'ourselves', 'you', \"you're\"]"
      ]
     },
     "execution_count": 11,
     "metadata": {},
     "output_type": "execute_result"
    }
   ],
   "source": [
    "eng_stopwords[:10]"
   ]
  },
  {
   "cell_type": "code",
   "execution_count": 12,
   "id": "e4b92a25-7b93-40d8-8ff9-6cf8b1c70152",
   "metadata": {},
   "outputs": [],
   "source": [
    "filtered_dict = []\n",
    "for value, key in w_dict:\n",
    "    if key not in eng_stopwords:\n",
    "        filtered_dict.append((value,key))"
   ]
  },
  {
   "cell_type": "code",
   "execution_count": 13,
   "id": "206b7b08-46fe-4b21-bb45-c7f9524002c1",
   "metadata": {},
   "outputs": [
    {
     "data": {
      "text/plain": [
       "[(575, 'would'),\n",
       " (519, 'us'),\n",
       " (292, 'said'),\n",
       " (284, 'roberto'),\n",
       " (252, 'could'),\n",
       " (249, 'one'),\n",
       " (227, 'snow'),\n",
       " (183, 'mountain'),\n",
       " (182, 'time'),\n",
       " (165, 'like')]"
      ]
     },
     "execution_count": 13,
     "metadata": {},
     "output_type": "execute_result"
    }
   ],
   "source": [
    "filtered_dict[:10]"
   ]
  },
  {
   "cell_type": "markdown",
   "id": "9f7b9915-ad77-4f8b-8fcc-96a4b1987268",
   "metadata": {},
   "source": [
    "# Finding the sentiment of chapter"
   ]
  },
  {
   "cell_type": "code",
   "execution_count": 14,
   "id": "02b71507-c031-42fb-bd20-ccd71c66a7ad",
   "metadata": {},
   "outputs": [
    {
     "name": "stderr",
     "output_type": "stream",
     "text": [
      "[nltk_data] Downloading package vader_lexicon to\n",
      "[nltk_data]     /Users/krishnakarki/nltk_data...\n",
      "[nltk_data]   Package vader_lexicon is already up-to-date!\n"
     ]
    }
   ],
   "source": [
    "nltk.download('vader_lexicon')\n",
    "from nltk.sentiment import SentimentIntensityAnalyzer"
   ]
  },
  {
   "cell_type": "markdown",
   "id": "5fc4906e-f91c-4dbc-a93b-f436abd727a6",
   "metadata": {},
   "source": [
    "### example"
   ]
  },
  {
   "cell_type": "code",
   "execution_count": 15,
   "id": "bcfc0941-5c5e-4191-8e79-f860cba0abbc",
   "metadata": {},
   "outputs": [],
   "source": [
    "analyzer = SentimentIntensityAnalyzer()    "
   ]
  },
  {
   "cell_type": "code",
   "execution_count": 16,
   "id": "981ec66f-1742-4e3e-b5f0-9de13550990c",
   "metadata": {},
   "outputs": [
    {
     "data": {
      "text/plain": [
       "<nltk.sentiment.vader.SentimentIntensityAnalyzer at 0x110d60610>"
      ]
     },
     "execution_count": 16,
     "metadata": {},
     "output_type": "execute_result"
    }
   ],
   "source": [
    "analyzer"
   ]
  },
  {
   "cell_type": "code",
   "execution_count": 17,
   "id": "4925f33f-b690-4b6e-9f66-e7bb921faed0",
   "metadata": {},
   "outputs": [
    {
     "data": {
      "text/plain": [
       "['__class__',\n",
       " '__delattr__',\n",
       " '__dict__',\n",
       " '__dir__',\n",
       " '__doc__',\n",
       " '__eq__',\n",
       " '__format__',\n",
       " '__ge__',\n",
       " '__getattribute__',\n",
       " '__getstate__',\n",
       " '__gt__',\n",
       " '__hash__',\n",
       " '__init__',\n",
       " '__init_subclass__',\n",
       " '__le__',\n",
       " '__lt__',\n",
       " '__module__',\n",
       " '__ne__',\n",
       " '__new__',\n",
       " '__reduce__',\n",
       " '__reduce_ex__',\n",
       " '__repr__',\n",
       " '__setattr__',\n",
       " '__sizeof__',\n",
       " '__str__',\n",
       " '__subclasshook__',\n",
       " '__weakref__',\n",
       " '_amplify_ep',\n",
       " '_amplify_qm',\n",
       " '_but_check',\n",
       " '_idioms_check',\n",
       " '_least_check',\n",
       " '_never_check',\n",
       " '_punctuation_emphasis',\n",
       " '_sift_sentiment_scores',\n",
       " 'constants',\n",
       " 'lexicon',\n",
       " 'lexicon_file',\n",
       " 'make_lex_dict',\n",
       " 'polarity_scores',\n",
       " 'score_valence',\n",
       " 'sentiment_valence']"
      ]
     },
     "execution_count": 17,
     "metadata": {},
     "output_type": "execute_result"
    }
   ],
   "source": [
    "dir(analyzer)"
   ]
  },
  {
   "cell_type": "code",
   "execution_count": 18,
   "id": "e9d89e37-7a9a-4e89-a913-78a8a53ff598",
   "metadata": {},
   "outputs": [
    {
     "data": {
      "text/plain": [
       "{'neg': 0.0, 'neu': 0.297, 'pos': 0.703, 'compound': 0.7964}"
      ]
     },
     "execution_count": 18,
     "metadata": {},
     "output_type": "execute_result"
    }
   ],
   "source": [
    "analyzer.polarity_scores(\"I am a good boy.I love nature.\")"
   ]
  },
  {
   "cell_type": "code",
   "execution_count": 42,
   "id": "478854ae-a5b5-44c2-85e7-943a74ff0eea",
   "metadata": {},
   "outputs": [],
   "source": [
    "pattern = re.compile(\"Chapter [0-9]+\")\n",
    "chapters = re.split(pattern, book)\n",
    "chapters.remove('')"
   ]
  },
  {
   "cell_type": "code",
   "execution_count": 44,
   "id": "7679f1f6-3d07-4de7-aaff-7d05aefc98f6",
   "metadata": {},
   "outputs": [
    {
     "name": "stdout",
     "output_type": "stream",
     "text": [
      "chapter 1 is positive\n",
      "chapter 2 is positive\n",
      "chapter 3 is negative\n",
      "chapter 4 is negative\n",
      "chapter 5 is positive\n",
      "chapter 6 is negative\n",
      "chapter 7 is negative\n",
      "chapter 8 is negative\n",
      "chapter 9 is negative\n",
      "chapter 10 is positive\n"
     ]
    }
   ],
   "source": [
    "dest = []\n",
    "for ind, chapter in enumerate(chapters):\n",
    "    result = analyzer.polarity_scores(chapter)\n",
    "    if result['neg'] > result['pos']:\n",
    "        print(f\"chapter {ind + 1} is negative\")\n",
    "    else:\n",
    "        print(f\"chapter {ind + 1} is positive\")"
   ]
  },
  {
   "cell_type": "code",
   "execution_count": null,
   "id": "73fa5bfd-943d-4355-b97e-2ad5312fb39e",
   "metadata": {},
   "outputs": [],
   "source": []
  }
 ],
 "metadata": {
  "kernelspec": {
   "display_name": "Python 3 (ipykernel)",
   "language": "python",
   "name": "python3"
  },
  "language_info": {
   "codemirror_mode": {
    "name": "ipython",
    "version": 3
   },
   "file_extension": ".py",
   "mimetype": "text/x-python",
   "name": "python",
   "nbconvert_exporter": "python",
   "pygments_lexer": "ipython3",
   "version": "3.11.9"
  }
 },
 "nbformat": 4,
 "nbformat_minor": 5
}
