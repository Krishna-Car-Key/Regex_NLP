{
 "cells": [
  {
   "cell_type": "markdown",
   "id": "fa1107df-bc12-4f38-8966-4c298a8d6529",
   "metadata": {},
   "source": [
    "# making dictionery"
   ]
  },
  {
   "cell_type": "code",
   "execution_count": 1,
   "id": "ea9e3dd0-239f-4c63-98b5-8ddb80422941",
   "metadata": {},
   "outputs": [],
   "source": [
    "import re\n",
    "import nltk"
   ]
  },
  {
   "cell_type": "code",
   "execution_count": 3,
   "id": "ca90b389-e5e5-4375-922d-c5f54fd44021",
   "metadata": {},
   "outputs": [],
   "source": [
    "with open(\"miracle-in-the-andes.txt\", \"r\") as file:\n",
    "    book = file.read()"
   ]
  },
  {
   "cell_type": "code",
   "execution_count": 7,
   "id": "d3c0eb66-a6f6-4284-8813-ae5394c0c572",
   "metadata": {},
   "outputs": [
    {
     "data": {
      "text/plain": [
       "['chapter',\n",
       " 'before',\n",
       " 'it',\n",
       " 'was',\n",
       " 'friday',\n",
       " 'the',\n",
       " 'thirteenth',\n",
       " 'of',\n",
       " 'october',\n",
       " 'we']"
      ]
     },
     "execution_count": 7,
     "metadata": {},
     "output_type": "execute_result"
    }
   ],
   "source": [
    "pattern = re.compile(\"[a-zA-Z]+\")\n",
    "words = re.findall(pattern, book.lower())\n",
    "words[:10]"
   ]
  },
  {
   "cell_type": "code",
   "execution_count": 16,
   "id": "8d6beaeb-6d66-4ee6-b264-43d59dcd2115",
   "metadata": {},
   "outputs": [],
   "source": [
    "w_dict = {}\n",
    "for word in words:\n",
    "    if word in w_dict.keys():\n",
    "        w_dict[word] = w_dict[word] + 1\n",
    "    else:\n",
    "        w_dict[word] = 1;\n",
    "        \n",
    "        "
   ]
  },
  {
   "cell_type": "code",
   "execution_count": 18,
   "id": "05237783-ca76-4cac-b3ed-62b7e0f1d5ab",
   "metadata": {},
   "outputs": [],
   "source": [
    "w_dict = [(value,key) for (key,value) in w_dict.items()]"
   ]
  },
  {
   "cell_type": "code",
   "execution_count": 19,
   "id": "8c13e9cd-1f5d-4c01-8514-ce22858cadfc",
   "metadata": {},
   "outputs": [
    {
     "data": {
      "text/plain": [
       "[(11, 'chapter'),\n",
       " (93, 'before'),\n",
       " (800, 'it'),\n",
       " (1430, 'was'),\n",
       " (1, 'friday'),\n",
       " (5346, 'the'),\n",
       " (1, 'thirteenth'),\n",
       " (2060, 'of'),\n",
       " (8, 'october'),\n",
       " (1226, 'we')]"
      ]
     },
     "execution_count": 19,
     "metadata": {},
     "output_type": "execute_result"
    }
   ],
   "source": [
    "w_dict[:10]"
   ]
  },
  {
   "cell_type": "code",
   "execution_count": 20,
   "id": "dd3342e0-fe6f-4db5-b39c-2480d93da4ca",
   "metadata": {},
   "outputs": [],
   "source": [
    "w_dict = sorted(w_dict, reverse=True)"
   ]
  },
  {
   "cell_type": "code",
   "execution_count": 22,
   "id": "1cd3f120-f4b6-46f1-bdf7-afe0e55b10e9",
   "metadata": {},
   "outputs": [
    {
     "data": {
      "text/plain": [
       "[(5346, 'the'),\n",
       " (2795, 'and'),\n",
       " (2729, 'i'),\n",
       " (2400, 'to'),\n",
       " (2060, 'of'),\n",
       " (1566, 'a'),\n",
       " (1430, 'was'),\n",
       " (1419, 'in'),\n",
       " (1226, 'we'),\n",
       " (1169, 'my')]"
      ]
     },
     "execution_count": 22,
     "metadata": {},
     "output_type": "execute_result"
    }
   ],
   "source": [
    "w_dict[:10]"
   ]
  },
  {
   "cell_type": "markdown",
   "id": "66c24351-e408-4edc-872a-b9c946fbd4fa",
   "metadata": {},
   "source": [
    "# Checking most_used word without eng_stopwords`"
   ]
  },
  {
   "cell_type": "code",
   "execution_count": 28,
   "id": "cff5bd64-2094-4954-a61d-d48b7f53e7ac",
   "metadata": {},
   "outputs": [
    {
     "name": "stderr",
     "output_type": "stream",
     "text": [
      "[nltk_data] Downloading package stopwords to\n",
      "[nltk_data]     /Users/krishnakarki/nltk_data...\n",
      "[nltk_data]   Unzipping corpora/stopwords.zip.\n"
     ]
    }
   ],
   "source": [
    "nltk.download('stopwords')\n",
    "from nltk.corpus import stopwords"
   ]
  },
  {
   "cell_type": "code",
   "execution_count": 29,
   "id": "7ffc1eef-5831-4458-8f25-fa02f0c30614",
   "metadata": {},
   "outputs": [],
   "source": [
    "eng_stopwords = stopwords.words(\"english\")"
   ]
  },
  {
   "cell_type": "code",
   "execution_count": 31,
   "id": "a8d30b8a-c3f8-4479-b4f9-5e34e29eb6cc",
   "metadata": {},
   "outputs": [
    {
     "data": {
      "text/plain": [
       "['i', 'me', 'my', 'myself', 'we', 'our', 'ours', 'ourselves', 'you', \"you're\"]"
      ]
     },
     "execution_count": 31,
     "metadata": {},
     "output_type": "execute_result"
    }
   ],
   "source": [
    "eng_stopwords[:10]"
   ]
  },
  {
   "cell_type": "code",
   "execution_count": 35,
   "id": "e4b92a25-7b93-40d8-8ff9-6cf8b1c70152",
   "metadata": {},
   "outputs": [],
   "source": [
    "filtered_dict = []\n",
    "for value, key in w_dict:\n",
    "    if key not in eng_stopwords:\n",
    "        filtered_dict.append((value,key))"
   ]
  },
  {
   "cell_type": "code",
   "execution_count": 37,
   "id": "206b7b08-46fe-4b21-bb45-c7f9524002c1",
   "metadata": {},
   "outputs": [
    {
     "data": {
      "text/plain": [
       "[(575, 'would'),\n",
       " (519, 'us'),\n",
       " (292, 'said'),\n",
       " (284, 'roberto'),\n",
       " (252, 'could'),\n",
       " (249, 'one'),\n",
       " (227, 'snow'),\n",
       " (183, 'mountain'),\n",
       " (182, 'time'),\n",
       " (165, 'like')]"
      ]
     },
     "execution_count": 37,
     "metadata": {},
     "output_type": "execute_result"
    }
   ],
   "source": [
    "filtered_dict[:10]"
   ]
  },
  {
   "cell_type": "markdown",
   "id": "9f7b9915-ad77-4f8b-8fcc-96a4b1987268",
   "metadata": {},
   "source": []
  },
  {
   "cell_type": "code",
   "execution_count": null,
   "id": "02b71507-c031-42fb-bd20-ccd71c66a7ad",
   "metadata": {},
   "outputs": [],
   "source": []
  }
 ],
 "metadata": {
  "kernelspec": {
   "display_name": "Python 3 (ipykernel)",
   "language": "python",
   "name": "python3"
  },
  "language_info": {
   "codemirror_mode": {
    "name": "ipython",
    "version": 3
   },
   "file_extension": ".py",
   "mimetype": "text/x-python",
   "name": "python",
   "nbconvert_exporter": "python",
   "pygments_lexer": "ipython3",
   "version": "3.11.9"
  }
 },
 "nbformat": 4,
 "nbformat_minor": 5
}
